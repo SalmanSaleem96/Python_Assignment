{
 "cells": [
  {
   "cell_type": "markdown",
   "metadata": {},
   "source": [
    "# Answer # 1"
   ]
  },
  {
   "cell_type": "code",
   "execution_count": 1,
   "metadata": {},
   "outputs": [
    {
     "name": "stdout",
     "output_type": "stream",
     "text": [
      "twinkle, twinkle, little star,\n",
      "\t thow i wonder what you are!\n",
      "\t\t  up above the world so high\n",
      "\t\t  Like a diamond in the sky.\n",
      "twinkle, twinkle, little star,\n",
      "\t thow i wonder what you are!\n"
     ]
    }
   ],
   "source": [
    "print(\"twinkle, twinkle, little star,\\n\\t thow i wonder what you are!\\n\\t\\t  up above the world so high\\n\\t\\t  Like a diamond in the sky.\\ntwinkle, twinkle, little star,\\n\\t thow i wonder what you are!\")"
   ]
  },
  {
   "cell_type": "markdown",
   "metadata": {},
   "source": [
    "# Answer # 2"
   ]
  },
  {
   "cell_type": "code",
   "execution_count": 2,
   "metadata": {},
   "outputs": [
    {
     "name": "stdout",
     "output_type": "stream",
     "text": [
      "python version =>  3.7.3 (default, Mar 27 2019, 17:13:21) [MSC v.1915 64 bit (AMD64)]\n",
      "python version info = >  sys.version_info(major=3, minor=7, micro=3, releaselevel='final', serial=0)\n"
     ]
    }
   ],
   "source": [
    "import sys\n",
    "\n",
    "print(\"python version => \",sys.version)\n",
    "print(\"python version info = > \",sys.version_info)"
   ]
  },
  {
   "cell_type": "markdown",
   "metadata": {},
   "source": [
    "# Answer # 3"
   ]
  },
  {
   "cell_type": "code",
   "execution_count": 3,
   "metadata": {},
   "outputs": [
    {
     "name": "stdout",
     "output_type": "stream",
     "text": [
      "2019-11-28 11:11:20.116591\n"
     ]
    }
   ],
   "source": [
    "from _datetime import datetime\n",
    "print(datetime.utcnow())"
   ]
  },
  {
   "cell_type": "markdown",
   "metadata": {},
   "source": [
    "# Answer # 4"
   ]
  },
  {
   "cell_type": "code",
   "execution_count": 4,
   "metadata": {},
   "outputs": [
    {
     "name": "stdout",
     "output_type": "stream",
     "text": [
      "Enter the radius of the circle : 88\n",
      "48676.57142857143\n"
     ]
    }
   ],
   "source": [
    "r=int(input(\"Enter the radius of the circle : \"))\n",
    "a=2*(22/7)*(r**2)\n",
    "print(a)"
   ]
  },
  {
   "cell_type": "markdown",
   "metadata": {},
   "source": [
    "# Answer # 5"
   ]
  },
  {
   "cell_type": "code",
   "execution_count": 5,
   "metadata": {},
   "outputs": [
    {
     "name": "stdout",
     "output_type": "stream",
     "text": [
      "Enter your first name : SALMAN\n",
      "Enter your last name : SALEEM\n",
      "SALEEM SALMAN\n"
     ]
    }
   ],
   "source": [
    "fname=input(\"Enter your first name : \")\n",
    "lname=input(\"Enter your last name : \")\n",
    "print(lname,fname)"
   ]
  },
  {
   "cell_type": "markdown",
   "metadata": {},
   "source": [
    "# Answer # 6"
   ]
  },
  {
   "cell_type": "code",
   "execution_count": 6,
   "metadata": {},
   "outputs": [
    {
     "name": "stdout",
     "output_type": "stream",
     "text": [
      "Enter any thing :GGODDOO\n",
      "Enter any thing :JJPOO\n",
      "GGODDOOJJPOO\n"
     ]
    }
   ],
   "source": [
    "finp=input(\"Enter any thin :\")\n",
    "linp=input(\"Enter any thing :\")\n",
    "print(finp+linp)"
   ]
  },
  {
   "cell_type": "code",
   "execution_count": null,
   "metadata": {},
   "outputs": [],
   "source": []
  }
 ],
 "metadata": {
  "kernelspec": {
   "display_name": "Python 3",
   "language": "python",
   "name": "python3"
  },
  "language_info": {
   "codemirror_mode": {
    "name": "ipython",
    "version": 3
   },
   "file_extension": ".py",
   "mimetype": "text/x-python",
   "name": "python",
   "nbconvert_exporter": "python",
   "pygments_lexer": "ipython3",
   "version": "3.7.3"
  }
 },
 "nbformat": 4,
 "nbformat_minor": 2
}
